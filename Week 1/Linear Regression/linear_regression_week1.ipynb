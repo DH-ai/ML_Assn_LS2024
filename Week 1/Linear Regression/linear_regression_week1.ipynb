{
  "cells": [
    {
      "cell_type": "code",
      "execution_count": 3,
      "metadata": {
        "id": "-zTLHrFCT6KY"
      },
      "outputs": [
        {
          "name": "stderr",
          "output_type": "stream",
          "text": [
            "C:\\Users\\dhruv\\AppData\\Local\\Temp\\ipykernel_34552\\268119037.py:2: DeprecationWarning: \n",
            "Pyarrow will become a required dependency of pandas in the next major release of pandas (pandas 3.0),\n",
            "(to allow more performant data types, such as the Arrow string type, and better interoperability with other libraries)\n",
            "but was not found to be installed on your system.\n",
            "If this would cause problems for you,\n",
            "please provide us feedback at https://github.com/pandas-dev/pandas/issues/54466\n",
            "        \n",
            "  import pandas as pd\n"
          ]
        }
      ],
      "source": [
        "import numpy as np\n",
        "import pandas as pd\n",
        "import matplotlib.pyplot as plt\n",
        "\n",
        "\n",
        "# Aim is to predict the marks of students of the test data"
      ]
    },
    {
      "cell_type": "code",
      "execution_count": 106,
      "metadata": {
        "id": "p0KHq8ZgTpU4"
      },
      "outputs": [
        {
          "name": "stdout",
          "output_type": "stream",
          "text": [
            "dict_items([('no', 0), ('yes', 1)])\n",
            "[0 1 2 2 5 6 18 118]\n"
          ]
        }
      ],
      "source": [
        "# Use the file namd 'training data' to train the model\n",
        "\n",
        "data = pd.read_excel('Training data.xlsx')\n",
        "x_train = np.array(data.iloc[:,0:8])\n",
        "y_train = np.array(data.iloc[:,8]).reshape(-1,1)\n",
        "\n",
        "\n",
        "# print(data.head(0).columns[1])\n",
        "# Try plotting y_train with different features\n",
        "# To get an idea whether to add some features or not\n",
        "# Add some features if required in x_train\n",
        "\n",
        "\n",
        "## code to plot all features with y_train\n",
        "# n = x_train.shape[1]\n",
        "# for i in range(n):\n",
        "#   plt.scatter(x_train[:,i],y_train)\n",
        "#   plt.xlabel(data.head(0).columns[i])\n",
        "#   plt.ylabel('marks')\n",
        "#   plt.show()\n",
        "\n",
        "# print(data.isna().sum())\n",
        "# print(data['iq'].unique())\n",
        "\n",
        "# Also do label encoding for features not represented in numbers\n",
        "# refer the link if not know : https://youtu.be/589nCGeWG1w?si=t2Wa7LgbUOO4RooM\n",
        "yn_map = {'no': 0, 'yes': 1}\n",
        "print(yn_map.items())\n",
        "\n",
        "def feature_changing(x_train):\n",
        "  # ---------\n",
        "    # Your code here\n",
        "  yn_map = {'no': 0, 'yes': 1}\n",
        "  mf_map = {'F': 0, 'M': 1}\n",
        "  for key,value in yn_map.items():\n",
        "    x_train[x_train[:,0] == key,0]=value\n",
        "  for key,value in mf_map.items():\n",
        "    # print(key,value)/\n",
        "    \n",
        "      \n",
        "    x_train[x_train[:,1] == key,1]=value\n",
        "\n",
        "\n",
        "  \n",
        "  return x_train\n",
        "\n",
        "  \n",
        "  # ---------\n",
        "\n",
        "x_train = feature_changing(x_train)\n",
        "print(x_train[0])"
      ]
    },
    {
      "cell_type": "code",
      "execution_count": 107,
      "metadata": {
        "id": "O5dOwbNbWJWa"
      },
      "outputs": [],
      "source": [
        "def cost(x_train,y_train,w,b):\n",
        "\n",
        "  m = x_train.shape[0]\n",
        "  loss =0\n",
        "  for i in range(m):\n",
        "    loss+=((np.dot(x_train[i],w)+b)-y_train[i])**2\n",
        "  loss/=2*m\n",
        "  \n",
        "  return loss[0]"
      ]
    },
    {
      "cell_type": "code",
      "execution_count": 108,
      "metadata": {
        "id": "hW8p2cTNU74W"
      },
      "outputs": [],
      "source": [
        "\n",
        "def gradient_descent(x_train,y_train,w,b):\n",
        "\n",
        "  # ---------\n",
        "    # Your code here\n",
        "    # Choose learning rate yourself\n",
        "  # ---------\n",
        "  alpha = 0.1\n",
        "  \n",
        "  m,n = x_train.shape # (number of examples, number of features)\n",
        "  dj_dw = np.zeros ((n,1))\n",
        "  dj_db =0\n",
        "  for i in range (m):\n",
        "    err = (np.dot(x_train[i],w)+b)-y_train[i]\n",
        "    for j in range(n):\n",
        "        \n",
        "        dj_dw[j]+=err*x_train[i,j] \n",
        "        \n",
        "    dj_db += err\n",
        "  dj_dw/=m\n",
        "  dj_db/=m\n",
        "  w = w-alpha*dj_dw\n",
        "  b = b-alpha*dj_db\n",
        "  return w,b"
      ]
    },
    {
      "cell_type": "code",
      "execution_count": 109,
      "metadata": {},
      "outputs": [],
      "source": [
        "def z_score(data):\n",
        "    mean = np.mean(data, axis=0)\n",
        "    std = np.std(data, axis=0)\n",
        "    standardized_data = (data - mean) / std\n",
        "    return standardized_data, std, mean"
      ]
    },
    {
      "cell_type": "code",
      "execution_count": 110,
      "metadata": {},
      "outputs": [
        {
          "name": "stdout",
          "output_type": "stream",
          "text": [
            "Congratulations, your accuracy is 100.0%\n"
          ]
        }
      ],
      "source": [
        "# print(x_train[0])\n",
        "x_train = x_train.astype(np.float64)\n",
        "x_train,x_std,x_mean = z_score(x_train)\n",
        "\n",
        "np.random.seed(2147483647)\n",
        "w = np.random.randn(x_train.shape[1],1)\n",
        "b = np.random.randn(1)\n",
        "\n",
        "old_cost = 0\n",
        "\n",
        "while abs(old_cost - (cost(x_train,y_train,w,b)))>0.00001:\n",
        "  old_cost = cost(x_train,y_train,w,b)\n",
        "  w,b = gradient_descent(x_train,y_train,w,b)\n",
        "\n",
        "\n",
        "  \n",
        "\n",
        "x_predict = pd.read_excel('Test data.xlsx').iloc[:,:8].to_numpy()\n",
        "x_predict = feature_changing(x_predict)\n",
        "x_predict = (x_predict - x_mean)/x_std\n",
        "ans = pd.read_excel('Test data.xlsx').iloc[:,8].to_numpy()\n",
        "\n",
        "y_predict = np.dot(x_predict,w) + b\n",
        "\n",
        "accuracy = 0\n",
        "for dim in range(len(ans)):\n",
        "  # print(y_predict[dim,0]-ans[dim])\n",
        "  if abs(y_predict[dim,0]-ans[dim])<0.5: # do not change the tolerance as you'll be checked on +- 0.5 error only\n",
        "    accuracy += 1\n",
        "accuracy = round(accuracy*100/200.0,2)\n",
        "ok = 'Congratulations' if accuracy>95 else 'Optimization required'\n",
        "print(f\"{ok}, your accuracy is {accuracy}%\")"
      ]
    }
  ],
  "metadata": {
    "colab": {
      "provenance": []
    },
    "kernelspec": {
      "display_name": "Python 3",
      "name": "python3"
    },
    "language_info": {
      "codemirror_mode": {
        "name": "ipython",
        "version": 3
      },
      "file_extension": ".py",
      "mimetype": "text/x-python",
      "name": "python",
      "nbconvert_exporter": "python",
      "pygments_lexer": "ipython3",
      "version": "3.12.0"
    }
  },
  "nbformat": 4,
  "nbformat_minor": 0
}
