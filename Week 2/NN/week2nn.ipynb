{
 "cells": [
  {
   "cell_type": "code",
   "execution_count": 8,
   "metadata": {},
   "outputs": [],
   "source": [
    "import tensorflow as tf\n",
    "# from tensorflow.python.keras import Model, layers\n",
    "from keras import Model, layers\n",
    "import os\n",
    "from PIL import Image\n",
    "import numpy as np"
   ]
  },
  {
   "cell_type": "code",
   "execution_count": 9,
   "metadata": {},
   "outputs": [],
   "source": [
    "class SmpDataset(tf.keras.utils.Sequence):\n",
    "    \n",
    "    def __init__(self, root_dir, batch_size=32, shuffle=True):\n",
    "        self.root_dir = root_dir\n",
    "        self.batch_size = batch_size\n",
    "        self.shuffle = shuffle\n",
    "        self.classes = sorted(os.listdir(root_dir))\n",
    "        self.class_to_idx = {cls_name: idx for idx, cls_name in enumerate(self.classes)}\n",
    "        self.images = []\n",
    "        for cls_name in self.classes:\n",
    "            cls_dir = os.path.join(root_dir, cls_name)\n",
    "            for img_name in os.listdir(cls_dir):\n",
    "                self.images.append((os.path.join(cls_dir, img_name), self.class_to_idx[cls_name]))\n",
    "\n",
    "        if self.shuffle:\n",
    "            np.random.shuffle(self.images)\n",
    "\n",
    "    def __len__(self):\n",
    "        return len(self.images) // self.batch_size\n",
    "\n",
    "    def __getitem__(self, index):\n",
    "        batch_images = self.images[index * self.batch_size:(index + 1) * self.batch_size]\n",
    "        X = []\n",
    "        y = []\n",
    "        for img_path, label in batch_images:\n",
    "            image = Image.open(img_path).convert('RGB')\n",
    "            image = np.array(image.resize((64, 64))) / 255.0  # Normalize to [0, 1]\n",
    "            X.append(image)\n",
    "            y.append(label)\n",
    "\n",
    "        return np.array(X), np.array(y)\n",
    "    \n"
   ]
  },
  {
   "cell_type": "code",
   "execution_count": 10,
   "metadata": {},
   "outputs": [],
   "source": [
    "class NN(Model):\n",
    "    def __init__(self, num_classes):\n",
    "        super(NN, self).__init__()\n",
    "        self.flatten = layers.Flatten()\n",
    "        self.fc1 = layers.Dense(512, activation='relu')\n",
    "        self.bn1 = layers.BatchNormalization()\n",
    "        self.fc2 = layers.Dense(256, activation='relu')\n",
    "        self.bn2 = layers.BatchNormalization()\n",
    "        self.fc3 = layers.Dense(num_classes)\n",
    "\n",
    "    def call(self, x):\n",
    "        x = self.flatten(x)\n",
    "        x = self.fc1(x)\n",
    "        x = self.bn1(x)\n",
    "        x = self.fc2(x)\n",
    "        x = self.bn2(x)\n",
    "        return self.fc3(x)"
   ]
  },
  {
   "cell_type": "code",
   "execution_count": 11,
   "metadata": {},
   "outputs": [
    {
     "name": "stdout",
     "output_type": "stream",
     "text": [
      "Epoch [0/200], Loss: 0.6645\n",
      "Epoch [10/200], Loss: 0.4954\n",
      "Epoch [20/200], Loss: 0.3067\n",
      "Epoch [30/200], Loss: 0.1599\n",
      "Epoch [40/200], Loss: 0.0833\n",
      "Epoch [50/200], Loss: 0.0410\n",
      "Epoch [60/200], Loss: 0.0447\n",
      "Epoch [70/200], Loss: 0.0859\n",
      "Epoch [80/200], Loss: 0.2679\n",
      "Epoch [90/200], Loss: 0.0790\n",
      "Epoch [100/200], Loss: 0.0353\n",
      "Epoch [110/200], Loss: 0.0217\n",
      "Epoch [120/200], Loss: 0.0143\n",
      "Epoch [130/200], Loss: 0.0103\n",
      "Epoch [140/200], Loss: 0.0079\n",
      "Epoch [150/200], Loss: 0.0060\n",
      "Epoch [160/200], Loss: 0.0049\n",
      "Epoch [170/200], Loss: 0.0041\n",
      "Epoch [180/200], Loss: 0.0034\n",
      "Epoch [190/200], Loss: 0.0029\n"
     ]
    }
   ],
   "source": [
    "\n",
    "# Device configuration\n",
    "# device = torch.device('cuda' if torch.cuda.is_available() else 'cpu')\n",
    "\n",
    "# Hyperparameters\n",
    "num_classes = 2\n",
    "learning_rate = 0.0001\n",
    "batch_size = 32\n",
    "num_epochs = 200\n",
    "# Load dataset\n",
    "train_data = SmpDataset(root_dir='./homer_bart/', batch_size=batch_size)\n",
    "\n",
    "model = NN(num_classes=num_classes)\n",
    "\n",
    "loss_object = tf.keras.losses.SparseCategoricalCrossentropy(from_logits=True)\n",
    "optimizer = tf.keras.optimizers.Adam(learning_rate=learning_rate)\n",
    "\n",
    "\n",
    "for epoch in range(num_epochs):\n",
    "    for step in range(len(train_data)):\n",
    "        batch_x, batch_y = train_data[step]\n",
    "        \n",
    "        with tf.GradientTape() as tape:\n",
    "            logits = model(batch_x, training=True)\n",
    "            loss_value = loss_object(batch_y, logits)\n",
    "\n",
    "        grads = tape.gradient(loss_value, model.trainable_variables)\n",
    "        optimizer.apply_gradients(zip(grads, model.trainable_variables))\n",
    "\n",
    "    if epoch % 10 == 0:\n",
    "        print(f\"Epoch [{epoch}/{num_epochs}], Loss: {loss_value.numpy():.4f}\")\n"
   ]
  },
  {
   "cell_type": "code",
   "execution_count": 12,
   "metadata": {},
   "outputs": [
    {
     "name": "stdout",
     "output_type": "stream",
     "text": [
      "Accuracy: 100.00%\n"
     ]
    }
   ],
   "source": [
    "def check_accuracy(data, model):\n",
    "    num_correct = 0\n",
    "    num_samples = 0\n",
    "    for step in range(len(data)):\n",
    "        batch_x, batch_y = data[step]\n",
    "        logits = model(batch_x)\n",
    "        predictions = tf.argmax(logits, axis=1)\n",
    "        num_correct += np.sum(predictions.numpy() == batch_y)\n",
    "        num_samples += batch_y.shape[0]\n",
    "\n",
    "    accuracy = num_correct / num_samples * 100\n",
    "    print(f'Accuracy: {accuracy:.2f}%')\n",
    "\n",
    "check_accuracy(train_data, model)"
   ]
  },
  {
   "cell_type": "code",
   "execution_count": null,
   "metadata": {},
   "outputs": [],
   "source": []
  }
 ],
 "metadata": {
  "kernelspec": {
   "display_name": ".venv",
   "language": "python",
   "name": "python3"
  },
  "language_info": {
   "codemirror_mode": {
    "name": "ipython",
    "version": 3
   },
   "file_extension": ".py",
   "mimetype": "text/x-python",
   "name": "python",
   "nbconvert_exporter": "python",
   "pygments_lexer": "ipython3",
   "version": "3.12.0"
  }
 },
 "nbformat": 4,
 "nbformat_minor": 2
}
